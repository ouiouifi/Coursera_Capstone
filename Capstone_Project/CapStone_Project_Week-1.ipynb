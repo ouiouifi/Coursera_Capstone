{
 "cells": [
  {
   "cell_type": "markdown",
   "metadata": {},
   "source": [
    "<div align = \"center\"><h1> Bucharest - The Battle of Neighborhoods</h1>\n",
    "<h3><i> A Capstone Project</i></h3>\n",
    "</div>"
   ]
  },
  {
   "cell_type": "markdown",
   "metadata": {},
   "source": [
    "##A A. Introduction\n",
    "\n",
    "Known for its wide, tree-lined boulevards, glorious Belle Époque buildings and a reputation for the high life (which in the 1900s earned its nickname of \"Little Paris\"), Bucharest, Romania's largest city and capital, is today a bustling metropolis.\n",
    "\n",
    "Romanian legend has it that the city of Bucharest was founded on the banks of the Dambovita River by a shepherd named Bucur, whose name literarily means \"joy.\" His flute playing reportedly dazzled the people and his hearty wine from nearby vineyards endeared him to the local traders, who gave his name to the place [see more here](http://romaniatourism.com/bucharest.html).\n",
    "\n"
   ]
  },
  {
   "cell_type": "markdown",
   "metadata": {},
   "source": [
    "### A.1 Problem description and background discussion\n",
    "According to [Wikipedia](https://en.wikipedia.org/wiki/Bucharest) , the historical city centre was listed, In 2016, as 'endangered' by the World Monuments Watch. In 2017, Bucharest was the European city with the highest growth of tourists who stay over night, according to the Mastercard Global Index of Urban Destinations. As for the past two consecutive years, 2018 and 2019, Bucharest ranked as the European destination with the highest potential for development according to the same study.\n",
    "\n",
    "In a 2016 [Telegraph article](https://www.telegraph.co.uk/travel/destinations/europe/romania/articles/why-your-next-city-break-should-be-bucharest/), among the to visit Bucharest, one cand read :\n",
    "- So drinking is incredibly cheap\n",
    "- It's packed with hipster coffee spots\n",
    "- There are some fabulous summer parks\n",
    "\n",
    "So in this project we will use Foursquare data in order to identify most common venues in Bucharest today. \n",
    "\n",
    "### A.2 Data description and analysis methodology\n",
    "\n",
    "For this problem, we will get the services of Foursquare API to explore the Bucharest data, in terms of neighborhoods. \n",
    "First of all, for this project we will use Bucharest neighborhoods (Sectors) as scrapped from [Wikipedia](https://fr.wikipedia.org/wiki/Secteurs_de_Bucarest). In order to geaographically situate the neighborhoods, latitudes and longitudes were manually added to the csv file used for the dataframe from [Latitude.to](https://latitude.to).\n",
    "\n",
    "Then, data will be extracted from Forsquare in order to include the information about the places around each neighborhood like restaurants, hotels, coffee shops, parks, theaters, art galleries,museums and many more. \n",
    "We will use machine learning technique, “Clustering” to segment the neighborhoods with similar objects on the basis of each neighborhood data. These objects will be given priority on the basis of foot traffic (activity) in their respective neighborhoods. This will help to locate most common venues in Bucharest but also, will allow to evaluate possible business ideas in tourism area \n",
    "\n",
    "\n",
    "\n",
    "\n",
    "\n",
    "\n",
    "\n"
   ]
  },
  {
   "cell_type": "code",
   "execution_count": null,
   "metadata": {},
   "outputs": [],
   "source": []
  }
 ],
 "metadata": {
  "language_info": {
   "codemirror_mode": {
    "name": "ipython",
    "version": 3
   },
   "file_extension": ".py",
   "mimetype": "text/x-python",
   "name": "python",
   "nbconvert_exporter": "python",
   "pygments_lexer": "ipython3",
   "version": "3.7.7-final"
  },
  "orig_nbformat": 2,
  "kernelspec": {
   "name": "python3",
   "display_name": "Python 3"
  }
 },
 "nbformat": 4,
 "nbformat_minor": 2
}